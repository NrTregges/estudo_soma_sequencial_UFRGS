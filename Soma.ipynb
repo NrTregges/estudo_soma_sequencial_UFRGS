{
 "cells": [
  {
   "cell_type": "markdown",
   "id": "193ee85b",
   "metadata": {},
   "source": [
    "# Programa Sequencial\n",
    "## Requisito\n",
    "Leia dois números do teclado e calcule a some deles. Apresente o resultado."
   ]
  },
  {
   "cell_type": "code",
   "execution_count": 125,
   "id": "dff12f61",
   "metadata": {},
   "outputs": [],
   "source": [
    "# Atribuição de variáveis\n",
    "\n",
    "numero_1 = 0\n",
    "numero_2 = 0\n",
    "soma = 0"
   ]
  },
  {
   "cell_type": "code",
   "execution_count": 126,
   "id": "70837c97",
   "metadata": {},
   "outputs": [
    {
     "name": "stdout",
     "output_type": "stream",
     "text": [
      "Digite o primeiro número: 20\n",
      "Digite o segundo número: 30\n"
     ]
    }
   ],
   "source": [
    "# Entrada de dados\n",
    "\n",
    "numero_1 = float(input(\"Digite o primeiro número: \"))\n",
    "numero_2 = float(input(\"Digite o segundo número: \"))"
   ]
  },
  {
   "cell_type": "code",
   "execution_count": 127,
   "id": "a78b0cf5",
   "metadata": {},
   "outputs": [],
   "source": [
    "# Processamento de dados\n",
    "\n",
    "soma = numero_1 + numero_2\n"
   ]
  },
  {
   "cell_type": "code",
   "execution_count": 128,
   "id": "11405dab",
   "metadata": {},
   "outputs": [
    {
     "name": "stdout",
     "output_type": "stream",
     "text": [
      "O resultado da soma entre 20.0 e 30.0 é igual a 50.0.\n"
     ]
    }
   ],
   "source": [
    "# Saída de dados\n",
    "\n",
    "print(f'O resultado da soma entre {numero_1} e {numero_2} é igual a {soma}.')"
   ]
  },
  {
   "cell_type": "markdown",
   "id": "a4c79cea",
   "metadata": {},
   "source": [
    "# Programa Estruturado"
   ]
  },
  {
   "cell_type": "code",
   "execution_count": 129,
   "id": "eb5f7567",
   "metadata": {},
   "outputs": [],
   "source": [
    "# Atribuição de variáveis\n",
    "\n",
    "numeros = [0,0]\n",
    "\n",
    "soma = 0\n"
   ]
  },
  {
   "cell_type": "code",
   "execution_count": null,
   "id": "2b59ed9f",
   "metadata": {},
   "outputs": [],
   "source": [
    "# Entrada de dados\n",
    "\n",
    "i = 0\n",
    "\n",
    "while i < 2:\n",
    "    numeros[i] = float(input(\"Digite o número: \"))\n",
    "    i+= 1\n"
   ]
  },
  {
   "cell_type": "code",
   "execution_count": 119,
   "id": "056e5d8b",
   "metadata": {},
   "outputs": [],
   "source": [
    "# Processamento de dados - Calculo da soma\n",
    "\n",
    "for numero in numeros: \n",
    "    soma += numero\n",
    "    "
   ]
  },
  {
   "cell_type": "code",
   "execution_count": 122,
   "id": "15d2450c",
   "metadata": {},
   "outputs": [
    {
     "name": "stdout",
     "output_type": "stream",
     "text": [
      "A soma do 4.0 com o número 9.0 é igual a 13.0.\n"
     ]
    }
   ],
   "source": [
    "# Saída de dados\n",
    "\n",
    "print(f'A soma do {numeros[0]} com o número {numeros[1]} é igual a {soma}.')"
   ]
  },
  {
   "cell_type": "code",
   "execution_count": null,
   "id": "991d09e4",
   "metadata": {},
   "outputs": [],
   "source": []
  }
 ],
 "metadata": {
  "kernelspec": {
   "display_name": "Python 3 (ipykernel)",
   "language": "python",
   "name": "python3"
  },
  "language_info": {
   "codemirror_mode": {
    "name": "ipython",
    "version": 3
   },
   "file_extension": ".py",
   "mimetype": "text/x-python",
   "name": "python",
   "nbconvert_exporter": "python",
   "pygments_lexer": "ipython3",
   "version": "3.10.9"
  }
 },
 "nbformat": 4,
 "nbformat_minor": 5
}
